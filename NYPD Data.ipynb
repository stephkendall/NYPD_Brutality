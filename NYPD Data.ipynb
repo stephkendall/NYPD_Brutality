{
 "cells": [
  {
   "cell_type": "markdown",
   "metadata": {},
   "source": [
    "## Imports"
   ]
  },
  {
   "cell_type": "code",
   "execution_count": 1,
   "metadata": {},
   "outputs": [],
   "source": [
    "import itertools\n",
    "import pandas as pd\n",
    "import re\n",
    "import requests\n",
    "import matplotlib.pyplot as plt\n",
    "import numpy as np\n",
    "import seaborn as sns\n",
    "import time\n",
    "\n",
    "from bs4 import BeautifulSoup\n",
    "from selenium import webdriver\n",
    "from selenium.webdriver.common.keys import Keys\n",
    "from tqdm import tqdm_notebook as tqdm\n",
    "\n",
    "pd.set_option('display.max_columns', 500)\n",
    "pd.set_option('display.max_colwidth', -1)"
   ]
  },
  {
   "cell_type": "markdown",
   "metadata": {},
   "source": [
    "# Selenium"
   ]
  },
  {
   "cell_type": "markdown",
   "metadata": {},
   "source": [
    "## Download Datasets"
   ]
  },
  {
   "cell_type": "code",
   "execution_count": 4,
   "metadata": {},
   "outputs": [],
   "source": [
    "# instaniate browser\n",
    "browser = webdriver.Chrome(executable_path = \n",
    "                           \"/Users/stephaniekendall/Desktop/Errthang/Downloaded/chromedriver\")"
   ]
  },
  {
   "cell_type": "code",
   "execution_count": 5,
   "metadata": {},
   "outputs": [],
   "source": [
    "# connect to NYC.gov NYPD Use of Force Data Table page\n",
    "browser.get('https://www1.nyc.gov/site/nypd/stats/reports-analysis/use-of-force-data.page')"
   ]
  },
  {
   "cell_type": "code",
   "execution_count": 33,
   "metadata": {
    "collapsed": true
   },
   "outputs": [
    {
     "data": {
      "text/plain": [
       "[<selenium.webdriver.remote.webelement.WebElement (session=\"aff3e7f6888b478efe66f202dc181749\", element=\"7c1d22f2-35f1-4a8a-96e8-434ceb4afc64\")>,\n",
       " <selenium.webdriver.remote.webelement.WebElement (session=\"aff3e7f6888b478efe66f202dc181749\", element=\"9b733c06-312b-4557-939b-826f17f0f673\")>,\n",
       " <selenium.webdriver.remote.webelement.WebElement (session=\"aff3e7f6888b478efe66f202dc181749\", element=\"e5453b24-84c0-4947-98f6-7af7616e6c2b\")>,\n",
       " <selenium.webdriver.remote.webelement.WebElement (session=\"aff3e7f6888b478efe66f202dc181749\", element=\"f53e7a03-c53a-4909-b6e1-69df8b87b887\")>,\n",
       " <selenium.webdriver.remote.webelement.WebElement (session=\"aff3e7f6888b478efe66f202dc181749\", element=\"7ec31787-7347-48ed-872b-edec01e67fb5\")>,\n",
       " <selenium.webdriver.remote.webelement.WebElement (session=\"aff3e7f6888b478efe66f202dc181749\", element=\"b437a935-4848-4f74-9276-2afac306592d\")>,\n",
       " <selenium.webdriver.remote.webelement.WebElement (session=\"aff3e7f6888b478efe66f202dc181749\", element=\"27cac435-1aac-4c62-940f-a00bc8a8611b\")>,\n",
       " <selenium.webdriver.remote.webelement.WebElement (session=\"aff3e7f6888b478efe66f202dc181749\", element=\"614ec42b-43ba-4ac0-a46b-caa1920f3090\")>,\n",
       " <selenium.webdriver.remote.webelement.WebElement (session=\"aff3e7f6888b478efe66f202dc181749\", element=\"d7311d13-3ee9-4aaa-9b66-fa9c5c972657\")>,\n",
       " <selenium.webdriver.remote.webelement.WebElement (session=\"aff3e7f6888b478efe66f202dc181749\", element=\"8aa2facf-a842-4e01-aef0-4eee07c13d73\")>,\n",
       " <selenium.webdriver.remote.webelement.WebElement (session=\"aff3e7f6888b478efe66f202dc181749\", element=\"23164944-5609-463e-96de-fb8ec51d7d67\")>,\n",
       " <selenium.webdriver.remote.webelement.WebElement (session=\"aff3e7f6888b478efe66f202dc181749\", element=\"ece86172-131a-410f-b8cd-88e093fa23ff\")>,\n",
       " <selenium.webdriver.remote.webelement.WebElement (session=\"aff3e7f6888b478efe66f202dc181749\", element=\"abe54649-ba26-45d5-b11c-c3f6b37c3583\")>,\n",
       " <selenium.webdriver.remote.webelement.WebElement (session=\"aff3e7f6888b478efe66f202dc181749\", element=\"a3b9bb99-6a4c-4a7e-b639-0a3682ff4d19\")>,\n",
       " <selenium.webdriver.remote.webelement.WebElement (session=\"aff3e7f6888b478efe66f202dc181749\", element=\"e39cf30c-6fb3-4753-8083-94c3ffab71fb\")>,\n",
       " <selenium.webdriver.remote.webelement.WebElement (session=\"aff3e7f6888b478efe66f202dc181749\", element=\"f2f51893-7a8e-41cc-87dc-9f95cea4a6fc\")>,\n",
       " <selenium.webdriver.remote.webelement.WebElement (session=\"aff3e7f6888b478efe66f202dc181749\", element=\"31932865-46d6-4ea4-b331-f7a16bd26d07\")>,\n",
       " <selenium.webdriver.remote.webelement.WebElement (session=\"aff3e7f6888b478efe66f202dc181749\", element=\"a2765633-c150-4642-bdde-a003a8b1cb25\")>,\n",
       " <selenium.webdriver.remote.webelement.WebElement (session=\"aff3e7f6888b478efe66f202dc181749\", element=\"d02b9992-10b7-4121-a747-0b75a2f52e8e\")>,\n",
       " <selenium.webdriver.remote.webelement.WebElement (session=\"aff3e7f6888b478efe66f202dc181749\", element=\"f647cfcf-4293-426b-bd85-8d47cb0db062\")>,\n",
       " <selenium.webdriver.remote.webelement.WebElement (session=\"aff3e7f6888b478efe66f202dc181749\", element=\"d6d185f3-cfe3-4f7a-b8ec-fc7d18143674\")>,\n",
       " <selenium.webdriver.remote.webelement.WebElement (session=\"aff3e7f6888b478efe66f202dc181749\", element=\"6f96cd04-af77-429a-95c0-c940ea329816\")>,\n",
       " <selenium.webdriver.remote.webelement.WebElement (session=\"aff3e7f6888b478efe66f202dc181749\", element=\"cc85831b-d17f-4c8c-ac3a-a017a3a3ec91\")>,\n",
       " <selenium.webdriver.remote.webelement.WebElement (session=\"aff3e7f6888b478efe66f202dc181749\", element=\"7812c949-8b2e-4db1-8c14-486f26178758\")>,\n",
       " <selenium.webdriver.remote.webelement.WebElement (session=\"aff3e7f6888b478efe66f202dc181749\", element=\"da85d1a1-8d36-4661-9398-2672d55d0279\")>,\n",
       " <selenium.webdriver.remote.webelement.WebElement (session=\"aff3e7f6888b478efe66f202dc181749\", element=\"bbdf2c9e-27bb-49df-92f9-14f935a84b1f\")>]"
      ]
     },
     "execution_count": 33,
     "metadata": {},
     "output_type": "execute_result"
    }
   ],
   "source": [
    "# download quarterly data from 4Q 2016 to 1Q 2020\n",
    "browser.find_elements_by_partial_link_text(\"Incidents by\")"
   ]
  },
  {
   "cell_type": "code",
   "execution_count": 31,
   "metadata": {
    "collapsed": true
   },
   "outputs": [
    {
     "ename": "TypeError",
     "evalue": "'NoneType' object is not iterable",
     "output_type": "error",
     "traceback": [
      "\u001b[0;31m---------------------------------------------------------------------------\u001b[0m",
      "\u001b[0;31mTypeError\u001b[0m                                 Traceback (most recent call last)",
      "\u001b[0;32m<ipython-input-31-5e711c7253c4>\u001b[0m in \u001b[0;36m<module>\u001b[0;34m\u001b[0m\n\u001b[0;32m----> 1\u001b[0;31m \u001b[0;32mfor\u001b[0m \u001b[0mdat\u001b[0m \u001b[0;32min\u001b[0m \u001b[0mquart_data\u001b[0m\u001b[0;34m:\u001b[0m\u001b[0;34m\u001b[0m\u001b[0;34m\u001b[0m\u001b[0m\n\u001b[0m\u001b[1;32m      2\u001b[0m     \u001b[0mbrowser\u001b[0m\u001b[0;34m.\u001b[0m\u001b[0mdat\u001b[0m\u001b[0;34m.\u001b[0m\u001b[0mclick\u001b[0m\u001b[0;34m(\u001b[0m\u001b[0;34m)\u001b[0m\u001b[0;34m\u001b[0m\u001b[0;34m\u001b[0m\u001b[0m\n",
      "\u001b[0;31mTypeError\u001b[0m: 'NoneType' object is not iterable"
     ]
    }
   ],
   "source": [
    "for x in browser.find_elements_by_partial_link_text(\"Incidents by\"):\n",
    "    link = webdriver.ActionChains(self.driver).move_to_element(x).click(x).perform()"
   ]
  },
  {
   "cell_type": "code",
   "execution_count": 38,
   "metadata": {},
   "outputs": [],
   "source": [
    "links = [link.get_attribute('href') for link in browser.find_elements_by_partial_link_text(\"Incidents by\")]\n",
    "\n",
    "htmls = []\n",
    "for link in links:\n",
    "    browser.get(link)\n",
    "    htmls.append(browser.page_source)"
   ]
  },
  {
   "cell_type": "code",
   "execution_count": null,
   "metadata": {},
   "outputs": [],
   "source": []
  },
  {
   "cell_type": "code",
   "execution_count": null,
   "metadata": {},
   "outputs": [],
   "source": []
  }
 ],
 "metadata": {
  "kernelspec": {
   "display_name": "Python 3",
   "language": "python",
   "name": "python3"
  },
  "language_info": {
   "codemirror_mode": {
    "name": "ipython",
    "version": 3
   },
   "file_extension": ".py",
   "mimetype": "text/x-python",
   "name": "python",
   "nbconvert_exporter": "python",
   "pygments_lexer": "ipython3",
   "version": "3.7.3"
  },
  "toc": {
   "base_numbering": 1,
   "nav_menu": {},
   "number_sections": true,
   "sideBar": true,
   "skip_h1_title": false,
   "title_cell": "Table of Contents",
   "title_sidebar": "Contents",
   "toc_cell": false,
   "toc_position": {},
   "toc_section_display": true,
   "toc_window_display": false
  }
 },
 "nbformat": 4,
 "nbformat_minor": 2
}
